{
 "cells": [
  {
   "cell_type": "markdown",
   "id": "threaded-asbestos",
   "metadata": {},
   "source": [
    "# Challenge 2: Count Commits\n",
    "\n",
    "Count how many commits were made in the past week.\n",
    "\n",
    "Obtain all the commits made in the past week via API, which is a JSON array that contains multiple commit objects.\n",
    "\n",
    "Count how many commit objects are contained in the array."
   ]
  },
  {
   "cell_type": "markdown",
   "id": "norwegian-praise",
   "metadata": {},
   "source": [
    "⚠️ **Remember to limit your output before submission**."
   ]
  },
  {
   "cell_type": "code",
   "execution_count": 8,
   "id": "8688316a",
   "metadata": {},
   "outputs": [],
   "source": [
    "import json\n",
    "import requests as req\n",
    "import os\n",
    "from dotenv import load_dotenv"
   ]
  },
  {
   "cell_type": "code",
   "execution_count": 9,
   "id": "developing-printing",
   "metadata": {},
   "outputs": [],
   "source": [
    "URL=\"https://api.github.com/orgs/Ironhack-Data-Madrid-Marzo-2022/repos\""
   ]
  },
  {
   "cell_type": "code",
   "execution_count": 10,
   "id": "791c951f",
   "metadata": {},
   "outputs": [
    {
     "data": {
      "text/plain": [
       "<Response [200]>"
      ]
     },
     "execution_count": 10,
     "metadata": {},
     "output_type": "execute_result"
    }
   ],
   "source": [
    "res_git=req.get(URL)\n",
    "\n",
    "res_git"
   ]
  },
  {
   "cell_type": "code",
   "execution_count": 17,
   "id": "9e5159ad",
   "metadata": {},
   "outputs": [
    {
     "data": {
      "text/plain": [
       "23"
      ]
     },
     "execution_count": 17,
     "metadata": {},
     "output_type": "execute_result"
    }
   ],
   "source": [
    "\n",
    "\n",
    "commit=[]\n",
    "\n",
    "\n",
    "for i in range(len(res_git.json())):\n",
    "\n",
    "    commit.append(res_git.json()[i]['commits_url'])\n",
    "    \n",
    "\n",
    "\n",
    "len(commit)"
   ]
  },
  {
   "cell_type": "code",
   "execution_count": 18,
   "id": "0cd13684",
   "metadata": {},
   "outputs": [
    {
     "data": {
      "text/plain": [
       "['https://api.github.com/repos/Ironhack-Data-Madrid-Marzo-2022/apuntes_clase/commits{/sha}',\n",
       " 'https://api.github.com/repos/Ironhack-Data-Madrid-Marzo-2022/1.1-lab-bash/commits{/sha}',\n",
       " 'https://api.github.com/repos/Ironhack-Data-Madrid-Marzo-2022/1.1-lab-resolving-git-conflicts/commits{/sha}',\n",
       " 'https://api.github.com/repos/Ironhack-Data-Madrid-Marzo-2022/1.2-lab-tuple-set-dict/commits{/sha}',\n",
       " 'https://api.github.com/repos/Ironhack-Data-Madrid-Marzo-2022/1.2-lab-list-comprehension/commits{/sha}',\n",
       " 'https://api.github.com/repos/Ironhack-Data-Madrid-Marzo-2022/Soluciones_labs/commits{/sha}',\n",
       " 'https://api.github.com/repos/Ironhack-Data-Madrid-Marzo-2022/1.3-lab-functions/commits{/sha}',\n",
       " 'https://api.github.com/repos/Ironhack-Data-Madrid-Marzo-2022/1.3-Bags-of-words/commits{/sha}',\n",
       " 'https://api.github.com/repos/Ironhack-Data-Madrid-Marzo-2022/1.4-lab-errorhand_listcomp/commits{/sha}',\n",
       " 'https://api.github.com/repos/Ironhack-Data-Madrid-Marzo-2022/1.5-lab-vikings/commits{/sha}',\n",
       " 'https://api.github.com/repos/Ironhack-Data-Madrid-Marzo-2022/2.1-lab-numpy/commits{/sha}',\n",
       " 'https://api.github.com/repos/Ironhack-Data-Madrid-Marzo-2022/2.1-lab-intro-to-pandas/commits{/sha}',\n",
       " 'https://api.github.com/repos/Ironhack-Data-Madrid-Marzo-2022/2.2-pandas-deepdive/commits{/sha}',\n",
       " 'https://api.github.com/repos/Ironhack-Data-Madrid-Marzo-2022/2.3-lab-import-export/commits{/sha}',\n",
       " 'https://api.github.com/repos/Ironhack-Data-Madrid-Marzo-2022/2.4-lab-data-cleaning/commits{/sha}',\n",
       " 'https://api.github.com/repos/Ironhack-Data-Madrid-Marzo-2022/w3-pandas-project/commits{/sha}',\n",
       " 'https://api.github.com/repos/Ironhack-Data-Madrid-Marzo-2022/3.1-lab-intro-to-mysql/commits{/sha}',\n",
       " 'https://api.github.com/repos/Ironhack-Data-Madrid-Marzo-2022/3.2-lab-mysql-select/commits{/sha}',\n",
       " 'https://api.github.com/repos/Ironhack-Data-Madrid-Marzo-2022/3.3-lab-mysql-advanced/commits{/sha}',\n",
       " 'https://api.github.com/repos/Ironhack-Data-Madrid-Marzo-2022/3.4-lab-mongo/commits{/sha}',\n",
       " 'https://api.github.com/repos/Ironhack-Data-Madrid-Marzo-2022/3.4-lab-ufo/commits{/sha}',\n",
       " 'https://api.github.com/repos/Ironhack-Data-Madrid-Marzo-2022/w4-database-project/commits{/sha}',\n",
       " 'https://api.github.com/repos/Ironhack-Data-Madrid-Marzo-2022/4.1-lab-api-scavengers-game/commits{/sha}']"
      ]
     },
     "execution_count": 18,
     "metadata": {},
     "output_type": "execute_result"
    }
   ],
   "source": [
    "list(commit)"
   ]
  },
  {
   "cell_type": "code",
   "execution_count": 2,
   "id": "creative-stable",
   "metadata": {},
   "outputs": [],
   "source": [
    "# Example: print(variable[:10]) "
   ]
  },
  {
   "cell_type": "code",
   "execution_count": null,
   "id": "ongoing-taylor",
   "metadata": {},
   "outputs": [],
   "source": [
    "sem=\"/commit?since=\n",
    "\n",
    "res.sem=res.get(URL+sem)"
   ]
  }
 ],
 "metadata": {
  "kernelspec": {
   "display_name": "Python 3 (ipykernel)",
   "language": "python",
   "name": "python3"
  },
  "language_info": {
   "codemirror_mode": {
    "name": "ipython",
    "version": 3
   },
   "file_extension": ".py",
   "mimetype": "text/x-python",
   "name": "python",
   "nbconvert_exporter": "python",
   "pygments_lexer": "ipython3",
   "version": "3.9.7"
  },
  "toc": {
   "base_numbering": 1,
   "nav_menu": {},
   "number_sections": true,
   "sideBar": true,
   "skip_h1_title": true,
   "title_cell": "Table of Contents",
   "title_sidebar": "Contents",
   "toc_cell": false,
   "toc_position": {
    "height": "calc(100% - 180px)",
    "left": "10px",
    "top": "150px",
    "width": "288px"
   },
   "toc_section_display": true,
   "toc_window_display": true
  }
 },
 "nbformat": 4,
 "nbformat_minor": 5
}
