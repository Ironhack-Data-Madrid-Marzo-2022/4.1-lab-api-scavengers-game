{
 "cells": [
  {
   "cell_type": "markdown",
   "id": "threaded-asbestos",
   "metadata": {},
   "source": [
    "# Challenge 2: Count Commits\n",
    "\n",
    "Count how many commits were made in the past week.\n",
    "\n",
    "Obtain all the commits made in the past week via API, which is a JSON array that contains multiple commit objects.\n",
    "\n",
    "Count how many commit objects are contained in the array."
   ]
  },
  {
   "cell_type": "markdown",
   "id": "norwegian-praise",
   "metadata": {},
   "source": [
    "⚠️ **Remember to limit your output before submission**."
   ]
  },
  {
   "cell_type": "code",
   "execution_count": 1,
   "id": "developing-printing",
   "metadata": {},
   "outputs": [],
   "source": [
    "# Imports and basics\n",
    "\n",
    "import requests\n",
    "\n",
    "with open('tkn.txt') as t:\n",
    "    tkn = t.read()\n",
    "\n",
    "headers = {'Authorization' : 'token ' + tkn} "
   ]
  },
  {
   "cell_type": "code",
   "execution_count": 7,
   "id": "creative-stable",
   "metadata": {},
   "outputs": [],
   "source": [
    "# Set URL and get primary JSON\n",
    "\n",
    "url = 'https://api.github.com/repos/Ironhack-Data-Madrid-Marzo-2022/apuntes_clase'\n",
    "resp = requests.get(url, headers = headers).json()"
   ]
  },
  {
   "cell_type": "code",
   "execution_count": 29,
   "id": "ongoing-taylor",
   "metadata": {},
   "outputs": [],
   "source": [
    "# Get commits JSON\n",
    "\n",
    "com_url = resp['commits_url'].replace('{/sha}', '') # Remove final \"sha\"\n",
    "com_resp = requests.get(com_url, headers = headers).json()"
   ]
  },
  {
   "cell_type": "code",
   "execution_count": 37,
   "id": "6b4784fe",
   "metadata": {},
   "outputs": [],
   "source": [
    "# Get max date: one week before\n",
    "\n",
    "from datetime import datetime, timedelta\n",
    "    \n",
    "today = datetime.today().strftime(\"%Y-%m-%d\")\n",
    "last_week = (datetime.today() - timedelta(days=7)).strftime(\"%Y-%m-%d\")\n",
    "\n"
   ]
  },
  {
   "cell_type": "code",
   "execution_count": 44,
   "id": "c631f1e4",
   "metadata": {},
   "outputs": [
    {
     "data": {
      "text/plain": [
       "{'sha': 'ee23ea7815c71d75ed4600f33375bdf2b0aed629',\n",
       " 'node_id': 'C_kwDOHBRQZ9oAKGVlMjNlYTc4MTVjNzFkNzVlZDQ2MDBmMzMzNzViZGYyYjBhZWQ2Mjk',\n",
       " 'commit': {'author': {'name': 'YonatanRA',\n",
       "   'email': 'yeho@mail.com',\n",
       "   'date': '2022-04-04T07:01:46Z'},\n",
       "  'committer': {'name': 'YonatanRA',\n",
       "   'email': 'yeho@mail.com',\n",
       "   'date': '2022-04-04T07:01:46Z'},\n",
       "  'message': 'intro bases de datos',\n",
       "  'tree': {'sha': '89957eba123b0bc2a56a201eda3887f669153dbf',\n",
       "   'url': 'https://api.github.com/repos/Ironhack-Data-Madrid-Marzo-2022/apuntes_clase/git/trees/89957eba123b0bc2a56a201eda3887f669153dbf'},\n",
       "  'url': 'https://api.github.com/repos/Ironhack-Data-Madrid-Marzo-2022/apuntes_clase/git/commits/ee23ea7815c71d75ed4600f33375bdf2b0aed629',\n",
       "  'comment_count': 0,\n",
       "  'verification': {'verified': False,\n",
       "   'reason': 'unsigned',\n",
       "   'signature': None,\n",
       "   'payload': None}},\n",
       " 'url': 'https://api.github.com/repos/Ironhack-Data-Madrid-Marzo-2022/apuntes_clase/commits/ee23ea7815c71d75ed4600f33375bdf2b0aed629',\n",
       " 'html_url': 'https://github.com/Ironhack-Data-Madrid-Marzo-2022/apuntes_clase/commit/ee23ea7815c71d75ed4600f33375bdf2b0aed629',\n",
       " 'comments_url': 'https://api.github.com/repos/Ironhack-Data-Madrid-Marzo-2022/apuntes_clase/commits/ee23ea7815c71d75ed4600f33375bdf2b0aed629/comments',\n",
       " 'author': {'login': 'YonatanRA',\n",
       "  'id': 47545401,\n",
       "  'node_id': 'MDQ6VXNlcjQ3NTQ1NDAx',\n",
       "  'avatar_url': 'https://avatars.githubusercontent.com/u/47545401?v=4',\n",
       "  'gravatar_id': '',\n",
       "  'url': 'https://api.github.com/users/YonatanRA',\n",
       "  'html_url': 'https://github.com/YonatanRA',\n",
       "  'followers_url': 'https://api.github.com/users/YonatanRA/followers',\n",
       "  'following_url': 'https://api.github.com/users/YonatanRA/following{/other_user}',\n",
       "  'gists_url': 'https://api.github.com/users/YonatanRA/gists{/gist_id}',\n",
       "  'starred_url': 'https://api.github.com/users/YonatanRA/starred{/owner}{/repo}',\n",
       "  'subscriptions_url': 'https://api.github.com/users/YonatanRA/subscriptions',\n",
       "  'organizations_url': 'https://api.github.com/users/YonatanRA/orgs',\n",
       "  'repos_url': 'https://api.github.com/users/YonatanRA/repos',\n",
       "  'events_url': 'https://api.github.com/users/YonatanRA/events{/privacy}',\n",
       "  'received_events_url': 'https://api.github.com/users/YonatanRA/received_events',\n",
       "  'type': 'User',\n",
       "  'site_admin': False},\n",
       " 'committer': {'login': 'YonatanRA',\n",
       "  'id': 47545401,\n",
       "  'node_id': 'MDQ6VXNlcjQ3NTQ1NDAx',\n",
       "  'avatar_url': 'https://avatars.githubusercontent.com/u/47545401?v=4',\n",
       "  'gravatar_id': '',\n",
       "  'url': 'https://api.github.com/users/YonatanRA',\n",
       "  'html_url': 'https://github.com/YonatanRA',\n",
       "  'followers_url': 'https://api.github.com/users/YonatanRA/followers',\n",
       "  'following_url': 'https://api.github.com/users/YonatanRA/following{/other_user}',\n",
       "  'gists_url': 'https://api.github.com/users/YonatanRA/gists{/gist_id}',\n",
       "  'starred_url': 'https://api.github.com/users/YonatanRA/starred{/owner}{/repo}',\n",
       "  'subscriptions_url': 'https://api.github.com/users/YonatanRA/subscriptions',\n",
       "  'organizations_url': 'https://api.github.com/users/YonatanRA/orgs',\n",
       "  'repos_url': 'https://api.github.com/users/YonatanRA/repos',\n",
       "  'events_url': 'https://api.github.com/users/YonatanRA/events{/privacy}',\n",
       "  'received_events_url': 'https://api.github.com/users/YonatanRA/received_events',\n",
       "  'type': 'User',\n",
       "  'site_admin': False},\n",
       " 'parents': [{'sha': 'dce3a04cfbd261c4305139d360c5ce8a70489aa7',\n",
       "   'url': 'https://api.github.com/repos/Ironhack-Data-Madrid-Marzo-2022/apuntes_clase/commits/dce3a04cfbd261c4305139d360c5ce8a70489aa7',\n",
       "   'html_url': 'https://github.com/Ironhack-Data-Madrid-Marzo-2022/apuntes_clase/commit/dce3a04cfbd261c4305139d360c5ce8a70489aa7'}]}"
      ]
     },
     "execution_count": 44,
     "metadata": {},
     "output_type": "execute_result"
    }
   ],
   "source": [
    "# Get commits filtered by date\n",
    "\n",
    "com_resp = requests.get(com_url, headers = headers, params={'since' : f'{last_week}T00:00:00Z',\n",
    "                                                            'before' : f'{today}T23:59:59Z'}).json()"
   ]
  },
  {
   "cell_type": "code",
   "execution_count": 46,
   "id": "ca1bf724",
   "metadata": {},
   "outputs": [
    {
     "data": {
      "text/plain": [
       "'There are 21 commits in the last week.'"
      ]
     },
     "execution_count": 46,
     "metadata": {},
     "output_type": "execute_result"
    }
   ],
   "source": [
    "# Answer for Challenge 2\n",
    "\n",
    "answer2 = f'There are {len(com_resp)} commits in the last week.'\n",
    "answer2"
   ]
  }
 ],
 "metadata": {
  "kernelspec": {
   "display_name": "Python 3",
   "language": "python",
   "name": "python3"
  },
  "language_info": {
   "codemirror_mode": {
    "name": "ipython",
    "version": 3
   },
   "file_extension": ".py",
   "mimetype": "text/x-python",
   "name": "python",
   "nbconvert_exporter": "python",
   "pygments_lexer": "ipython3",
   "version": "3.9.7"
  },
  "toc": {
   "base_numbering": 1,
   "nav_menu": {},
   "number_sections": true,
   "sideBar": true,
   "skip_h1_title": true,
   "title_cell": "Table of Contents",
   "title_sidebar": "Contents",
   "toc_cell": false,
   "toc_position": {
    "height": "calc(100% - 180px)",
    "left": "10px",
    "top": "150px",
    "width": "288px"
   },
   "toc_section_display": true,
   "toc_window_display": true
  }
 },
 "nbformat": 4,
 "nbformat_minor": 5
}
