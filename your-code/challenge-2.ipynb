{
 "cells": [
  {
   "cell_type": "markdown",
   "id": "threaded-asbestos",
   "metadata": {},
   "source": [
    "# Challenge 2: Count Commits\n",
    "\n",
    "Count how many commits were made in the past week.\n",
    "\n",
    "Obtain all the commits made in the past week via API, which is a JSON array that contains multiple commit objects.\n",
    "\n",
    "Count how many commit objects are contained in the array."
   ]
  },
  {
   "cell_type": "markdown",
   "id": "norwegian-praise",
   "metadata": {},
   "source": [
    "⚠️ **Remember to limit your output before submission**."
   ]
  },
  {
   "cell_type": "code",
   "execution_count": 1,
   "id": "developing-printing",
   "metadata": {},
   "outputs": [],
   "source": [
    "#Your code"
   ]
  },
  {
   "cell_type": "code",
   "execution_count": 2,
   "id": "creative-stable",
   "metadata": {},
   "outputs": [],
   "source": [
    "# Example: print(variable[:10]) "
   ]
  },
  {
   "cell_type": "code",
   "execution_count": 15,
   "id": "ongoing-taylor",
   "metadata": {},
   "outputs": [],
   "source": [
    "import json\n",
    "import requests as req\n",
    "import pandas as pd"
   ]
  },
  {
   "cell_type": "code",
   "execution_count": 8,
   "id": "b5141ccd",
   "metadata": {},
   "outputs": [],
   "source": [
    "import os\n",
    "from dotenv import load_dotenv\n",
    "import pandas as pd\n"
   ]
  },
  {
   "cell_type": "code",
   "execution_count": 35,
   "id": "d7cdd973",
   "metadata": {},
   "outputs": [],
   "source": [
    "#ironhack-datalabs/datamad1020-rev    GET /repos/:owner/:repo/commits\n",
    "\n",
    "URL=\"https://api.github.com/repos/ironhack-datalabs/datamad1020-rev/commits?since=2021-03-03\""
   ]
  },
  {
   "cell_type": "code",
   "execution_count": 30,
   "id": "83ec811e",
   "metadata": {},
   "outputs": [
    {
     "data": {
      "text/plain": [
       "<Response [200]>"
      ]
     },
     "execution_count": 30,
     "metadata": {},
     "output_type": "execute_result"
    }
   ],
   "source": [
    "res_git=req.get(URL)\n",
    "\n",
    "res_git"
   ]
  },
  {
   "cell_type": "code",
   "execution_count": 31,
   "id": "ad1d4263",
   "metadata": {},
   "outputs": [
    {
     "data": {
      "text/plain": [
       "list"
      ]
     },
     "execution_count": 31,
     "metadata": {},
     "output_type": "execute_result"
    }
   ],
   "source": [
    "type(res_git.json())"
   ]
  },
  {
   "cell_type": "code",
   "execution_count": 33,
   "id": "71cd9c74",
   "metadata": {},
   "outputs": [
    {
     "data": {
      "text/plain": [
       "[{'sha': 'f61a35d1016bfc11bb53e8d844db395fc6c4933d',\n",
       "  'node_id': 'MDY6Q29tbWl0MzA0MjQ4NTM5OmY2MWEzNWQxMDE2YmZjMTFiYjUzZThkODQ0ZGIzOTVmYzZjNDkzM2Q=',\n",
       "  'commit': {'author': {'name': 'ras',\n",
       "    'email': 'agalvezcorell@gmail.com',\n",
       "    'date': '2021-08-26T14:17:20Z'},\n",
       "   'committer': {'name': 'ras',\n",
       "    'email': 'agalvezcorell@gmail.com',\n",
       "    'date': '2021-08-26T14:17:20Z'},\n",
       "   'message': 'Hola polluelos de DataMad FT Agosto 2021 ♥️',\n",
       "   'tree': {'sha': '3f29ee656cb674a9e5d77748490d23bdff86aa18',\n",
       "    'url': 'https://api.github.com/repos/ironhack-datalabs/datamad1020-rev/git/trees/3f29ee656cb674a9e5d77748490d23bdff86aa18'},\n",
       "   'url': 'https://api.github.com/repos/ironhack-datalabs/datamad1020-rev/git/commits/f61a35d1016bfc11bb53e8d844db395fc6c4933d',\n",
       "   'comment_count': 0,\n",
       "   'verification': {'verified': False,\n",
       "    'reason': 'unsigned',\n",
       "    'signature': None,\n",
       "    'payload': None}},\n",
       "  'url': 'https://api.github.com/repos/ironhack-datalabs/datamad1020-rev/commits/f61a35d1016bfc11bb53e8d844db395fc6c4933d',\n",
       "  'html_url': 'https://github.com/ironhack-datalabs/datamad1020-rev/commit/f61a35d1016bfc11bb53e8d844db395fc6c4933d',\n",
       "  'comments_url': 'https://api.github.com/repos/ironhack-datalabs/datamad1020-rev/commits/f61a35d1016bfc11bb53e8d844db395fc6c4933d/comments',\n",
       "  'author': {'login': 'amandagcorell',\n",
       "   'id': 57899051,\n",
       "   'node_id': 'MDQ6VXNlcjU3ODk5MDUx',\n",
       "   'avatar_url': 'https://avatars.githubusercontent.com/u/57899051?v=4',\n",
       "   'gravatar_id': '',\n",
       "   'url': 'https://api.github.com/users/amandagcorell',\n",
       "   'html_url': 'https://github.com/amandagcorell',\n",
       "   'followers_url': 'https://api.github.com/users/amandagcorell/followers',\n",
       "   'following_url': 'https://api.github.com/users/amandagcorell/following{/other_user}',\n",
       "   'gists_url': 'https://api.github.com/users/amandagcorell/gists{/gist_id}',\n",
       "   'starred_url': 'https://api.github.com/users/amandagcorell/starred{/owner}{/repo}',\n",
       "   'subscriptions_url': 'https://api.github.com/users/amandagcorell/subscriptions',\n",
       "   'organizations_url': 'https://api.github.com/users/amandagcorell/orgs',\n",
       "   'repos_url': 'https://api.github.com/users/amandagcorell/repos',\n",
       "   'events_url': 'https://api.github.com/users/amandagcorell/events{/privacy}',\n",
       "   'received_events_url': 'https://api.github.com/users/amandagcorell/received_events',\n",
       "   'type': 'User',\n",
       "   'site_admin': False},\n",
       "  'committer': {'login': 'amandagcorell',\n",
       "   'id': 57899051,\n",
       "   'node_id': 'MDQ6VXNlcjU3ODk5MDUx',\n",
       "   'avatar_url': 'https://avatars.githubusercontent.com/u/57899051?v=4',\n",
       "   'gravatar_id': '',\n",
       "   'url': 'https://api.github.com/users/amandagcorell',\n",
       "   'html_url': 'https://github.com/amandagcorell',\n",
       "   'followers_url': 'https://api.github.com/users/amandagcorell/followers',\n",
       "   'following_url': 'https://api.github.com/users/amandagcorell/following{/other_user}',\n",
       "   'gists_url': 'https://api.github.com/users/amandagcorell/gists{/gist_id}',\n",
       "   'starred_url': 'https://api.github.com/users/amandagcorell/starred{/owner}{/repo}',\n",
       "   'subscriptions_url': 'https://api.github.com/users/amandagcorell/subscriptions',\n",
       "   'organizations_url': 'https://api.github.com/users/amandagcorell/orgs',\n",
       "   'repos_url': 'https://api.github.com/users/amandagcorell/repos',\n",
       "   'events_url': 'https://api.github.com/users/amandagcorell/events{/privacy}',\n",
       "   'received_events_url': 'https://api.github.com/users/amandagcorell/received_events',\n",
       "   'type': 'User',\n",
       "   'site_admin': False},\n",
       "  'parents': [{'sha': '79efcf150e34bc5eb982fde74dc5446bafc39bad',\n",
       "    'url': 'https://api.github.com/repos/ironhack-datalabs/datamad1020-rev/commits/79efcf150e34bc5eb982fde74dc5446bafc39bad',\n",
       "    'html_url': 'https://github.com/ironhack-datalabs/datamad1020-rev/commit/79efcf150e34bc5eb982fde74dc5446bafc39bad'}]},\n",
       " {'sha': '79efcf150e34bc5eb982fde74dc5446bafc39bad',\n",
       "  'node_id': 'MDY6Q29tbWl0MzA0MjQ4NTM5Ojc5ZWZjZjE1MGUzNGJjNWViOTgyZmRlNzRkYzU0NDZiYWZjMzliYWQ=',\n",
       "  'commit': {'author': {'name': 'agalvezcorell',\n",
       "    'email': 'agalvezcorell@gmail.com',\n",
       "    'date': '2021-06-17T14:03:57Z'},\n",
       "   'committer': {'name': 'agalvezcorell',\n",
       "    'email': 'agalvezcorell@gmail.com',\n",
       "    'date': '2021-06-17T14:03:57Z'},\n",
       "   'message': 'Hola Full timeeeeeee 🚀',\n",
       "   'tree': {'sha': 'a24c21d0b71daa175dab8cfe0246eae59a00446b',\n",
       "    'url': 'https://api.github.com/repos/ironhack-datalabs/datamad1020-rev/git/trees/a24c21d0b71daa175dab8cfe0246eae59a00446b'},\n",
       "   'url': 'https://api.github.com/repos/ironhack-datalabs/datamad1020-rev/git/commits/79efcf150e34bc5eb982fde74dc5446bafc39bad',\n",
       "   'comment_count': 0,\n",
       "   'verification': {'verified': False,\n",
       "    'reason': 'unsigned',\n",
       "    'signature': None,\n",
       "    'payload': None}},\n",
       "  'url': 'https://api.github.com/repos/ironhack-datalabs/datamad1020-rev/commits/79efcf150e34bc5eb982fde74dc5446bafc39bad',\n",
       "  'html_url': 'https://github.com/ironhack-datalabs/datamad1020-rev/commit/79efcf150e34bc5eb982fde74dc5446bafc39bad',\n",
       "  'comments_url': 'https://api.github.com/repos/ironhack-datalabs/datamad1020-rev/commits/79efcf150e34bc5eb982fde74dc5446bafc39bad/comments',\n",
       "  'author': {'login': 'amandagcorell',\n",
       "   'id': 57899051,\n",
       "   'node_id': 'MDQ6VXNlcjU3ODk5MDUx',\n",
       "   'avatar_url': 'https://avatars.githubusercontent.com/u/57899051?v=4',\n",
       "   'gravatar_id': '',\n",
       "   'url': 'https://api.github.com/users/amandagcorell',\n",
       "   'html_url': 'https://github.com/amandagcorell',\n",
       "   'followers_url': 'https://api.github.com/users/amandagcorell/followers',\n",
       "   'following_url': 'https://api.github.com/users/amandagcorell/following{/other_user}',\n",
       "   'gists_url': 'https://api.github.com/users/amandagcorell/gists{/gist_id}',\n",
       "   'starred_url': 'https://api.github.com/users/amandagcorell/starred{/owner}{/repo}',\n",
       "   'subscriptions_url': 'https://api.github.com/users/amandagcorell/subscriptions',\n",
       "   'organizations_url': 'https://api.github.com/users/amandagcorell/orgs',\n",
       "   'repos_url': 'https://api.github.com/users/amandagcorell/repos',\n",
       "   'events_url': 'https://api.github.com/users/amandagcorell/events{/privacy}',\n",
       "   'received_events_url': 'https://api.github.com/users/amandagcorell/received_events',\n",
       "   'type': 'User',\n",
       "   'site_admin': False},\n",
       "  'committer': {'login': 'amandagcorell',\n",
       "   'id': 57899051,\n",
       "   'node_id': 'MDQ6VXNlcjU3ODk5MDUx',\n",
       "   'avatar_url': 'https://avatars.githubusercontent.com/u/57899051?v=4',\n",
       "   'gravatar_id': '',\n",
       "   'url': 'https://api.github.com/users/amandagcorell',\n",
       "   'html_url': 'https://github.com/amandagcorell',\n",
       "   'followers_url': 'https://api.github.com/users/amandagcorell/followers',\n",
       "   'following_url': 'https://api.github.com/users/amandagcorell/following{/other_user}',\n",
       "   'gists_url': 'https://api.github.com/users/amandagcorell/gists{/gist_id}',\n",
       "   'starred_url': 'https://api.github.com/users/amandagcorell/starred{/owner}{/repo}',\n",
       "   'subscriptions_url': 'https://api.github.com/users/amandagcorell/subscriptions',\n",
       "   'organizations_url': 'https://api.github.com/users/amandagcorell/orgs',\n",
       "   'repos_url': 'https://api.github.com/users/amandagcorell/repos',\n",
       "   'events_url': 'https://api.github.com/users/amandagcorell/events{/privacy}',\n",
       "   'received_events_url': 'https://api.github.com/users/amandagcorell/received_events',\n",
       "   'type': 'User',\n",
       "   'site_admin': False},\n",
       "  'parents': [{'sha': '04bc51c0a75f3e6604fe7ac41da8b3c69919f7c3',\n",
       "    'url': 'https://api.github.com/repos/ironhack-datalabs/datamad1020-rev/commits/04bc51c0a75f3e6604fe7ac41da8b3c69919f7c3',\n",
       "    'html_url': 'https://github.com/ironhack-datalabs/datamad1020-rev/commit/04bc51c0a75f3e6604fe7ac41da8b3c69919f7c3'}]},\n",
       " {'sha': '04bc51c0a75f3e6604fe7ac41da8b3c69919f7c3',\n",
       "  'node_id': 'MDY6Q29tbWl0MzA0MjQ4NTM5OjA0YmM1MWMwYTc1ZjNlNjYwNGZlN2FjNDFkYThiM2M2OTkxOWY3YzM=',\n",
       "  'commit': {'author': {'name': 'Ras Soyungalgo',\n",
       "    'email': 'agalvezcorell@gmail.com',\n",
       "    'date': '2021-03-24T18:55:39Z'},\n",
       "   'committer': {'name': 'Ras Soyungalgo',\n",
       "    'email': 'agalvezcorell@gmail.com',\n",
       "    'date': '2021-03-24T18:55:39Z'},\n",
       "   'message': 'Hola datamad Part Time ♥️',\n",
       "   'tree': {'sha': '872b8a740d18c3a9abe469f1df7a7c4b26016c48',\n",
       "    'url': 'https://api.github.com/repos/ironhack-datalabs/datamad1020-rev/git/trees/872b8a740d18c3a9abe469f1df7a7c4b26016c48'},\n",
       "   'url': 'https://api.github.com/repos/ironhack-datalabs/datamad1020-rev/git/commits/04bc51c0a75f3e6604fe7ac41da8b3c69919f7c3',\n",
       "   'comment_count': 0,\n",
       "   'verification': {'verified': False,\n",
       "    'reason': 'unsigned',\n",
       "    'signature': None,\n",
       "    'payload': None}},\n",
       "  'url': 'https://api.github.com/repos/ironhack-datalabs/datamad1020-rev/commits/04bc51c0a75f3e6604fe7ac41da8b3c69919f7c3',\n",
       "  'html_url': 'https://github.com/ironhack-datalabs/datamad1020-rev/commit/04bc51c0a75f3e6604fe7ac41da8b3c69919f7c3',\n",
       "  'comments_url': 'https://api.github.com/repos/ironhack-datalabs/datamad1020-rev/commits/04bc51c0a75f3e6604fe7ac41da8b3c69919f7c3/comments',\n",
       "  'author': {'login': 'amandagcorell',\n",
       "   'id': 57899051,\n",
       "   'node_id': 'MDQ6VXNlcjU3ODk5MDUx',\n",
       "   'avatar_url': 'https://avatars.githubusercontent.com/u/57899051?v=4',\n",
       "   'gravatar_id': '',\n",
       "   'url': 'https://api.github.com/users/amandagcorell',\n",
       "   'html_url': 'https://github.com/amandagcorell',\n",
       "   'followers_url': 'https://api.github.com/users/amandagcorell/followers',\n",
       "   'following_url': 'https://api.github.com/users/amandagcorell/following{/other_user}',\n",
       "   'gists_url': 'https://api.github.com/users/amandagcorell/gists{/gist_id}',\n",
       "   'starred_url': 'https://api.github.com/users/amandagcorell/starred{/owner}{/repo}',\n",
       "   'subscriptions_url': 'https://api.github.com/users/amandagcorell/subscriptions',\n",
       "   'organizations_url': 'https://api.github.com/users/amandagcorell/orgs',\n",
       "   'repos_url': 'https://api.github.com/users/amandagcorell/repos',\n",
       "   'events_url': 'https://api.github.com/users/amandagcorell/events{/privacy}',\n",
       "   'received_events_url': 'https://api.github.com/users/amandagcorell/received_events',\n",
       "   'type': 'User',\n",
       "   'site_admin': False},\n",
       "  'committer': {'login': 'amandagcorell',\n",
       "   'id': 57899051,\n",
       "   'node_id': 'MDQ6VXNlcjU3ODk5MDUx',\n",
       "   'avatar_url': 'https://avatars.githubusercontent.com/u/57899051?v=4',\n",
       "   'gravatar_id': '',\n",
       "   'url': 'https://api.github.com/users/amandagcorell',\n",
       "   'html_url': 'https://github.com/amandagcorell',\n",
       "   'followers_url': 'https://api.github.com/users/amandagcorell/followers',\n",
       "   'following_url': 'https://api.github.com/users/amandagcorell/following{/other_user}',\n",
       "   'gists_url': 'https://api.github.com/users/amandagcorell/gists{/gist_id}',\n",
       "   'starred_url': 'https://api.github.com/users/amandagcorell/starred{/owner}{/repo}',\n",
       "   'subscriptions_url': 'https://api.github.com/users/amandagcorell/subscriptions',\n",
       "   'organizations_url': 'https://api.github.com/users/amandagcorell/orgs',\n",
       "   'repos_url': 'https://api.github.com/users/amandagcorell/repos',\n",
       "   'events_url': 'https://api.github.com/users/amandagcorell/events{/privacy}',\n",
       "   'received_events_url': 'https://api.github.com/users/amandagcorell/received_events',\n",
       "   'type': 'User',\n",
       "   'site_admin': False},\n",
       "  'parents': [{'sha': '62ccb107c540872cb332b10768b890040fb50c1f',\n",
       "    'url': 'https://api.github.com/repos/ironhack-datalabs/datamad1020-rev/commits/62ccb107c540872cb332b10768b890040fb50c1f',\n",
       "    'html_url': 'https://github.com/ironhack-datalabs/datamad1020-rev/commit/62ccb107c540872cb332b10768b890040fb50c1f'}]}]"
      ]
     },
     "execution_count": 33,
     "metadata": {},
     "output_type": "execute_result"
    }
   ],
   "source": [
    "res_git.json()"
   ]
  },
  {
   "cell_type": "code",
   "execution_count": 34,
   "id": "51d317c3",
   "metadata": {},
   "outputs": [
    {
     "data": {
      "text/plain": [
       "3"
      ]
     },
     "execution_count": 34,
     "metadata": {},
     "output_type": "execute_result"
    }
   ],
   "source": [
    "len(res_git.json())"
   ]
  },
  {
   "cell_type": "code",
   "execution_count": null,
   "id": "fa1936ca",
   "metadata": {},
   "outputs": [],
   "source": []
  }
 ],
 "metadata": {
  "kernelspec": {
   "display_name": "Python 3 (ipykernel)",
   "language": "python",
   "name": "python3"
  },
  "language_info": {
   "codemirror_mode": {
    "name": "ipython",
    "version": 3
   },
   "file_extension": ".py",
   "mimetype": "text/x-python",
   "name": "python",
   "nbconvert_exporter": "python",
   "pygments_lexer": "ipython3",
   "version": "3.9.12"
  },
  "toc": {
   "base_numbering": 1,
   "nav_menu": {},
   "number_sections": true,
   "sideBar": true,
   "skip_h1_title": true,
   "title_cell": "Table of Contents",
   "title_sidebar": "Contents",
   "toc_cell": false,
   "toc_position": {
    "height": "calc(100% - 180px)",
    "left": "10px",
    "top": "150px",
    "width": "288px"
   },
   "toc_section_display": true,
   "toc_window_display": true
  }
 },
 "nbformat": 4,
 "nbformat_minor": 5
}
