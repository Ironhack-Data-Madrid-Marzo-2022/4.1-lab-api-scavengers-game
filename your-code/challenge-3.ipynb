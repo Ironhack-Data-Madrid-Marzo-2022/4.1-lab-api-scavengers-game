{
 "cells": [
  {
   "cell_type": "markdown",
   "id": "defensive-clock",
   "metadata": {},
   "source": [
    "# Challenge 3: Hidden Cold Joke\n",
    "\n",
    "Using Python, call Github API to find out the cold joke contained in the 24 secret files in the following repo:\n",
    "\n",
    "https://github.com/ironhack-datalabs/scavenger\n",
    "\n",
    "The filenames of the secret files contain .scavengerhunt and they are scattered in different directories of this repo. The secret files are named from .0001.scavengerhunt to .0024.scavengerhunt. They are scattered randomly throughout this repo. You need to search for these files by calling the Github API, not searching the local files on your computer.\n",
    "\n",
    "\n",
    "After you find out the secrete files:\n",
    "\n",
    "Sort the filenames ascendingly.\n",
    "\n",
    "Read the content of each secret files into an array of strings.\n",
    "\n",
    "Concatenate the strings in the array separating each two with a whitespace.\n",
    "\n",
    "Print out the joke."
   ]
  },
  {
   "cell_type": "markdown",
   "id": "universal-length",
   "metadata": {},
   "source": [
    "⚠️ **Remember to limit your output before submission**."
   ]
  },
  {
   "cell_type": "code",
   "execution_count": 1,
   "id": "toxic-trading",
   "metadata": {},
   "outputs": [],
   "source": [
    "# Imports and basics\n",
    "\n",
    "import requests\n",
    "\n",
    "with open('tkn.txt') as t:\n",
    "    tkn = t.read()\n",
    "\n",
    "headers = {'Authorization' : 'token ' + tkn} "
   ]
  },
  {
   "cell_type": "code",
   "execution_count": 3,
   "id": "f8403b37",
   "metadata": {},
   "outputs": [],
   "source": [
    "# Set URL and get primary JSON\n",
    "\n",
    "url = 'https://api.github.com/repos/ironhack-datalabs/scavenger'\n",
    "resp = requests.get(url, headers = headers).json()"
   ]
  },
  {
   "cell_type": "code",
   "execution_count": 10,
   "id": "static-stopping",
   "metadata": {},
   "outputs": [],
   "source": [
    "tree_url = 'https://api.github.com/repos/ironhack-datalabs/scavenger/git/trees/master'\n",
    "tree_resp = requests.get(tree_url, headers = headers, \n",
    "                            params = {\n",
    "                                    'recursive' : '1',\n",
    "                                    'per_page' : '100'}).json()"
   ]
  },
  {
   "cell_type": "code",
   "execution_count": 38,
   "id": "063a0b09",
   "metadata": {},
   "outputs": [],
   "source": [
    "# Decode base 64\n",
    "\n",
    "import base64\n",
    "\n",
    "def decode_base64(string):\n",
    "    base64_bytes = string.encode('ascii')\n",
    "    message_bytes = base64.b64decode(base64_bytes)\n",
    "    message = message_bytes.decode('ascii')\n",
    "    return message"
   ]
  },
  {
   "cell_type": "code",
   "execution_count": 36,
   "id": "3e3e22ec",
   "metadata": {},
   "outputs": [],
   "source": [
    "# Extract files with .scavengerhunt in name\n",
    "\n",
    "scav_files = {}\n",
    "for f in tree_resp['tree']: \n",
    "    if '.scavengerhunt' in f['path']:\n",
    "        f_order = f['path'].split('.00')[1]\n",
    "        f_url = f['url']\n",
    "        content_json = requests.get(f_url, headers=headers).json()\n",
    "        content = content_json['content']\n",
    "        scav_files[f_order] = decode_base64(content)\n"
   ]
  },
  {
   "cell_type": "code",
   "execution_count": 39,
   "id": "93a2be0f",
   "metadata": {},
   "outputs": [],
   "source": [
    "# Sort scav_files\n",
    "\n",
    "sorted_keys = sorted(scav_files.keys())\n",
    "sorted_vals = [scav_files[k].strip() for k in sorted_keys]\n",
    "\n",
    "#sorted_vals"
   ]
  },
  {
   "cell_type": "code",
   "execution_count": 43,
   "id": "bda89790",
   "metadata": {},
   "outputs": [
    {
     "data": {
      "text/plain": [
       "'In data science, 80 percent of time spent is preparing data, 20 percent of time is spent complaining about the need to prepare data.'"
      ]
     },
     "execution_count": 43,
     "metadata": {},
     "output_type": "execute_result"
    }
   ],
   "source": [
    "# Join final list sorted_vals\n",
    "\n",
    "final_str = ' '.join(sorted_vals)\n",
    "final_str"
   ]
  }
 ],
 "metadata": {
  "kernelspec": {
   "display_name": "Python 3",
   "language": "python",
   "name": "python3"
  },
  "language_info": {
   "codemirror_mode": {
    "name": "ipython",
    "version": 3
   },
   "file_extension": ".py",
   "mimetype": "text/x-python",
   "name": "python",
   "nbconvert_exporter": "python",
   "pygments_lexer": "ipython3",
   "version": "3.9.7"
  },
  "toc": {
   "base_numbering": 1,
   "nav_menu": {},
   "number_sections": true,
   "sideBar": true,
   "skip_h1_title": true,
   "title_cell": "Table of Contents",
   "title_sidebar": "Contents",
   "toc_cell": false,
   "toc_position": {},
   "toc_section_display": true,
   "toc_window_display": true
  }
 },
 "nbformat": 4,
 "nbformat_minor": 5
}
