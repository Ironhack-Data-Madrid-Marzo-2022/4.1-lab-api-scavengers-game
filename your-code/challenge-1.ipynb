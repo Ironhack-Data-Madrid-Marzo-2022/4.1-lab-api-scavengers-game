{
 "cells": [
  {
   "cell_type": "code",
   "execution_count": 1,
   "metadata": {},
   "outputs": [],
   "source": [
    "import json\n",
    "\n",
    "import requests as req"
   ]
  },
  {
   "cell_type": "markdown",
   "metadata": {},
   "source": [
    "Only if you're using your environmental variable eith the `.env` file, import/install the following modules. Otherwise it is not necessary:\n",
    "\n",
    "https://pypi.org/project/python-dotenv/"
   ]
  },
  {
   "cell_type": "code",
   "execution_count": 2,
   "metadata": {},
   "outputs": [],
   "source": [
    "import os\n",
    "\n",
    "from dotenv import load_dotenv"
   ]
  },
  {
   "cell_type": "code",
   "execution_count": 3,
   "metadata": {},
   "outputs": [
    {
     "data": {
      "text/plain": [
       "True"
      ]
     },
     "execution_count": 3,
     "metadata": {},
     "output_type": "execute_result"
    }
   ],
   "source": [
    "load_dotenv()"
   ]
  },
  {
   "cell_type": "code",
   "execution_count": 4,
   "metadata": {},
   "outputs": [],
   "source": [
    "github = os.getenv(\"token\")"
   ]
  },
  {
   "cell_type": "markdown",
   "metadata": {},
   "source": [
    "# Challenge 1: Fork Languages\n",
    "\n",
    "You will find out how many programming languages are used among all the forks created from the main lab repo of your bootcamp. Assuming the main lab repo is ironhack-datalabs/datamad1020-rev, you will:\n",
    "\n",
    "1. Obtain the full list of forks created from the main lab repo via Github API.\n",
    "\n",
    "2. Loop the JSON response to find out the language attribute of each fork. Use an array to store the language attributes of each fork.\n",
    "\n",
    "Hint: Each language should appear only once in your array.\n",
    "\n",
    "3. Print the language array. It should be something like:\n",
    "\n",
    "[\"Python\", \"Jupyter Notebook\", \"HTML\"]\n"
   ]
  },
  {
   "cell_type": "markdown",
   "metadata": {},
   "source": [
    "**HINT:**: Create a list with every **language_url** you find in every fork "
   ]
  },
  {
   "cell_type": "markdown",
   "metadata": {},
   "source": [
    "⚠️ **Remember to limit your output before submission**."
   ]
  },
  {
   "cell_type": "code",
   "execution_count": 5,
   "metadata": {},
   "outputs": [],
   "source": [
    "URL_LAB = 'https://api.github.com/repos/Ironhack-Data-Madrid-Marzo-2022/4.1-lab-api-scavengers-game'"
   ]
  },
  {
   "cell_type": "code",
   "execution_count": 6,
   "metadata": {},
   "outputs": [],
   "source": [
    "res1 = req.get(URL_LAB)"
   ]
  },
  {
   "cell_type": "code",
   "execution_count": 7,
   "metadata": {},
   "outputs": [
    {
     "data": {
      "text/plain": [
       "{'id': 480265417,\n",
       " 'node_id': 'R_kgDOHKBEyQ',\n",
       " 'name': '4.1-lab-api-scavengers-game',\n",
       " 'full_name': 'Ironhack-Data-Madrid-Marzo-2022/4.1-lab-api-scavengers-game',\n",
       " 'private': False,\n",
       " 'owner': {'login': 'Ironhack-Data-Madrid-Marzo-2022',\n",
       "  'id': 101826840,\n",
       "  'node_id': 'O_kgDOBhHBGA',\n",
       "  'avatar_url': 'https://avatars.githubusercontent.com/u/101826840?v=4',\n",
       "  'gravatar_id': '',\n",
       "  'url': 'https://api.github.com/users/Ironhack-Data-Madrid-Marzo-2022',\n",
       "  'html_url': 'https://github.com/Ironhack-Data-Madrid-Marzo-2022',\n",
       "  'followers_url': 'https://api.github.com/users/Ironhack-Data-Madrid-Marzo-2022/followers',\n",
       "  'following_url': 'https://api.github.com/users/Ironhack-Data-Madrid-Marzo-2022/following{/other_user}',\n",
       "  'gists_url': 'https://api.github.com/users/Ironhack-Data-Madrid-Marzo-2022/gists{/gist_id}',\n",
       "  'starred_url': 'https://api.github.com/users/Ironhack-Data-Madrid-Marzo-2022/starred{/owner}{/repo}',\n",
       "  'subscriptions_url': 'https://api.github.com/users/Ironhack-Data-Madrid-Marzo-2022/subscriptions',\n",
       "  'organizations_url': 'https://api.github.com/users/Ironhack-Data-Madrid-Marzo-2022/orgs',\n",
       "  'repos_url': 'https://api.github.com/users/Ironhack-Data-Madrid-Marzo-2022/repos',\n",
       "  'events_url': 'https://api.github.com/users/Ironhack-Data-Madrid-Marzo-2022/events{/privacy}',\n",
       "  'received_events_url': 'https://api.github.com/users/Ironhack-Data-Madrid-Marzo-2022/received_events',\n",
       "  'type': 'Organization',\n",
       "  'site_admin': False},\n",
       " 'html_url': 'https://github.com/Ironhack-Data-Madrid-Marzo-2022/4.1-lab-api-scavengers-game',\n",
       " 'description': None,\n",
       " 'fork': False,\n",
       " 'url': 'https://api.github.com/repos/Ironhack-Data-Madrid-Marzo-2022/4.1-lab-api-scavengers-game',\n",
       " 'forks_url': 'https://api.github.com/repos/Ironhack-Data-Madrid-Marzo-2022/4.1-lab-api-scavengers-game/forks',\n",
       " 'keys_url': 'https://api.github.com/repos/Ironhack-Data-Madrid-Marzo-2022/4.1-lab-api-scavengers-game/keys{/key_id}',\n",
       " 'collaborators_url': 'https://api.github.com/repos/Ironhack-Data-Madrid-Marzo-2022/4.1-lab-api-scavengers-game/collaborators{/collaborator}',\n",
       " 'teams_url': 'https://api.github.com/repos/Ironhack-Data-Madrid-Marzo-2022/4.1-lab-api-scavengers-game/teams',\n",
       " 'hooks_url': 'https://api.github.com/repos/Ironhack-Data-Madrid-Marzo-2022/4.1-lab-api-scavengers-game/hooks',\n",
       " 'issue_events_url': 'https://api.github.com/repos/Ironhack-Data-Madrid-Marzo-2022/4.1-lab-api-scavengers-game/issues/events{/number}',\n",
       " 'events_url': 'https://api.github.com/repos/Ironhack-Data-Madrid-Marzo-2022/4.1-lab-api-scavengers-game/events',\n",
       " 'assignees_url': 'https://api.github.com/repos/Ironhack-Data-Madrid-Marzo-2022/4.1-lab-api-scavengers-game/assignees{/user}',\n",
       " 'branches_url': 'https://api.github.com/repos/Ironhack-Data-Madrid-Marzo-2022/4.1-lab-api-scavengers-game/branches{/branch}',\n",
       " 'tags_url': 'https://api.github.com/repos/Ironhack-Data-Madrid-Marzo-2022/4.1-lab-api-scavengers-game/tags',\n",
       " 'blobs_url': 'https://api.github.com/repos/Ironhack-Data-Madrid-Marzo-2022/4.1-lab-api-scavengers-game/git/blobs{/sha}',\n",
       " 'git_tags_url': 'https://api.github.com/repos/Ironhack-Data-Madrid-Marzo-2022/4.1-lab-api-scavengers-game/git/tags{/sha}',\n",
       " 'git_refs_url': 'https://api.github.com/repos/Ironhack-Data-Madrid-Marzo-2022/4.1-lab-api-scavengers-game/git/refs{/sha}',\n",
       " 'trees_url': 'https://api.github.com/repos/Ironhack-Data-Madrid-Marzo-2022/4.1-lab-api-scavengers-game/git/trees{/sha}',\n",
       " 'statuses_url': 'https://api.github.com/repos/Ironhack-Data-Madrid-Marzo-2022/4.1-lab-api-scavengers-game/statuses/{sha}',\n",
       " 'languages_url': 'https://api.github.com/repos/Ironhack-Data-Madrid-Marzo-2022/4.1-lab-api-scavengers-game/languages',\n",
       " 'stargazers_url': 'https://api.github.com/repos/Ironhack-Data-Madrid-Marzo-2022/4.1-lab-api-scavengers-game/stargazers',\n",
       " 'contributors_url': 'https://api.github.com/repos/Ironhack-Data-Madrid-Marzo-2022/4.1-lab-api-scavengers-game/contributors',\n",
       " 'subscribers_url': 'https://api.github.com/repos/Ironhack-Data-Madrid-Marzo-2022/4.1-lab-api-scavengers-game/subscribers',\n",
       " 'subscription_url': 'https://api.github.com/repos/Ironhack-Data-Madrid-Marzo-2022/4.1-lab-api-scavengers-game/subscription',\n",
       " 'commits_url': 'https://api.github.com/repos/Ironhack-Data-Madrid-Marzo-2022/4.1-lab-api-scavengers-game/commits{/sha}',\n",
       " 'git_commits_url': 'https://api.github.com/repos/Ironhack-Data-Madrid-Marzo-2022/4.1-lab-api-scavengers-game/git/commits{/sha}',\n",
       " 'comments_url': 'https://api.github.com/repos/Ironhack-Data-Madrid-Marzo-2022/4.1-lab-api-scavengers-game/comments{/number}',\n",
       " 'issue_comment_url': 'https://api.github.com/repos/Ironhack-Data-Madrid-Marzo-2022/4.1-lab-api-scavengers-game/issues/comments{/number}',\n",
       " 'contents_url': 'https://api.github.com/repos/Ironhack-Data-Madrid-Marzo-2022/4.1-lab-api-scavengers-game/contents/{+path}',\n",
       " 'compare_url': 'https://api.github.com/repos/Ironhack-Data-Madrid-Marzo-2022/4.1-lab-api-scavengers-game/compare/{base}...{head}',\n",
       " 'merges_url': 'https://api.github.com/repos/Ironhack-Data-Madrid-Marzo-2022/4.1-lab-api-scavengers-game/merges',\n",
       " 'archive_url': 'https://api.github.com/repos/Ironhack-Data-Madrid-Marzo-2022/4.1-lab-api-scavengers-game/{archive_format}{/ref}',\n",
       " 'downloads_url': 'https://api.github.com/repos/Ironhack-Data-Madrid-Marzo-2022/4.1-lab-api-scavengers-game/downloads',\n",
       " 'issues_url': 'https://api.github.com/repos/Ironhack-Data-Madrid-Marzo-2022/4.1-lab-api-scavengers-game/issues{/number}',\n",
       " 'pulls_url': 'https://api.github.com/repos/Ironhack-Data-Madrid-Marzo-2022/4.1-lab-api-scavengers-game/pulls{/number}',\n",
       " 'milestones_url': 'https://api.github.com/repos/Ironhack-Data-Madrid-Marzo-2022/4.1-lab-api-scavengers-game/milestones{/number}',\n",
       " 'notifications_url': 'https://api.github.com/repos/Ironhack-Data-Madrid-Marzo-2022/4.1-lab-api-scavengers-game/notifications{?since,all,participating}',\n",
       " 'labels_url': 'https://api.github.com/repos/Ironhack-Data-Madrid-Marzo-2022/4.1-lab-api-scavengers-game/labels{/name}',\n",
       " 'releases_url': 'https://api.github.com/repos/Ironhack-Data-Madrid-Marzo-2022/4.1-lab-api-scavengers-game/releases{/id}',\n",
       " 'deployments_url': 'https://api.github.com/repos/Ironhack-Data-Madrid-Marzo-2022/4.1-lab-api-scavengers-game/deployments',\n",
       " 'created_at': '2022-04-11T07:07:36Z',\n",
       " 'updated_at': '2022-04-11T13:31:30Z',\n",
       " 'pushed_at': '2022-04-11T15:36:50Z',\n",
       " 'git_url': 'git://github.com/Ironhack-Data-Madrid-Marzo-2022/4.1-lab-api-scavengers-game.git',\n",
       " 'ssh_url': 'git@github.com:Ironhack-Data-Madrid-Marzo-2022/4.1-lab-api-scavengers-game.git',\n",
       " 'clone_url': 'https://github.com/Ironhack-Data-Madrid-Marzo-2022/4.1-lab-api-scavengers-game.git',\n",
       " 'svn_url': 'https://github.com/Ironhack-Data-Madrid-Marzo-2022/4.1-lab-api-scavengers-game',\n",
       " 'homepage': None,\n",
       " 'size': 87,\n",
       " 'stargazers_count': 0,\n",
       " 'watchers_count': 0,\n",
       " 'language': 'Jupyter Notebook',\n",
       " 'has_issues': True,\n",
       " 'has_projects': True,\n",
       " 'has_downloads': True,\n",
       " 'has_wiki': True,\n",
       " 'has_pages': False,\n",
       " 'forks_count': 13,\n",
       " 'mirror_url': None,\n",
       " 'archived': False,\n",
       " 'disabled': False,\n",
       " 'open_issues_count': 2,\n",
       " 'license': None,\n",
       " 'allow_forking': True,\n",
       " 'is_template': False,\n",
       " 'topics': [],\n",
       " 'visibility': 'public',\n",
       " 'forks': 13,\n",
       " 'open_issues': 2,\n",
       " 'watchers': 0,\n",
       " 'default_branch': 'main',\n",
       " 'temp_clone_token': None,\n",
       " 'organization': {'login': 'Ironhack-Data-Madrid-Marzo-2022',\n",
       "  'id': 101826840,\n",
       "  'node_id': 'O_kgDOBhHBGA',\n",
       "  'avatar_url': 'https://avatars.githubusercontent.com/u/101826840?v=4',\n",
       "  'gravatar_id': '',\n",
       "  'url': 'https://api.github.com/users/Ironhack-Data-Madrid-Marzo-2022',\n",
       "  'html_url': 'https://github.com/Ironhack-Data-Madrid-Marzo-2022',\n",
       "  'followers_url': 'https://api.github.com/users/Ironhack-Data-Madrid-Marzo-2022/followers',\n",
       "  'following_url': 'https://api.github.com/users/Ironhack-Data-Madrid-Marzo-2022/following{/other_user}',\n",
       "  'gists_url': 'https://api.github.com/users/Ironhack-Data-Madrid-Marzo-2022/gists{/gist_id}',\n",
       "  'starred_url': 'https://api.github.com/users/Ironhack-Data-Madrid-Marzo-2022/starred{/owner}{/repo}',\n",
       "  'subscriptions_url': 'https://api.github.com/users/Ironhack-Data-Madrid-Marzo-2022/subscriptions',\n",
       "  'organizations_url': 'https://api.github.com/users/Ironhack-Data-Madrid-Marzo-2022/orgs',\n",
       "  'repos_url': 'https://api.github.com/users/Ironhack-Data-Madrid-Marzo-2022/repos',\n",
       "  'events_url': 'https://api.github.com/users/Ironhack-Data-Madrid-Marzo-2022/events{/privacy}',\n",
       "  'received_events_url': 'https://api.github.com/users/Ironhack-Data-Madrid-Marzo-2022/received_events',\n",
       "  'type': 'Organization',\n",
       "  'site_admin': False},\n",
       " 'network_count': 13,\n",
       " 'subscribers_count': 1}"
      ]
     },
     "execution_count": 7,
     "metadata": {},
     "output_type": "execute_result"
    }
   ],
   "source": [
    "res1.json()"
   ]
  },
  {
   "cell_type": "code",
   "execution_count": 8,
   "metadata": {},
   "outputs": [],
   "source": [
    "URL_FORKS = res1.json()['forks_url']"
   ]
  },
  {
   "cell_type": "code",
   "execution_count": 9,
   "metadata": {},
   "outputs": [],
   "source": [
    "res2 = req.get(URL_FORKS)"
   ]
  },
  {
   "cell_type": "code",
   "execution_count": 10,
   "metadata": {},
   "outputs": [],
   "source": [
    "lista_forks = res2.json()"
   ]
  },
  {
   "cell_type": "code",
   "execution_count": 11,
   "metadata": {},
   "outputs": [
    {
     "data": {
      "text/plain": [
       "['Jupyter Notebook', None]"
      ]
     },
     "execution_count": 11,
     "metadata": {},
     "output_type": "execute_result"
    }
   ],
   "source": [
    "languages = []\n",
    "\n",
    "for i in range(len(lista_forks)):\n",
    "    \n",
    "    languages.append(lista_forks[i]['language'])\n",
    "    \n",
    "list(set(languages))"
   ]
  }
 ],
 "metadata": {
  "kernelspec": {
   "display_name": "Python 3 (ipykernel)",
   "language": "python",
   "name": "python3"
  },
  "language_info": {
   "codemirror_mode": {
    "name": "ipython",
    "version": 3
   },
   "file_extension": ".py",
   "mimetype": "text/x-python",
   "name": "python",
   "nbconvert_exporter": "python",
   "pygments_lexer": "ipython3",
   "version": "3.9.7"
  },
  "toc": {
   "base_numbering": 1,
   "nav_menu": {},
   "number_sections": true,
   "sideBar": true,
   "skip_h1_title": true,
   "title_cell": "Table of Contents",
   "title_sidebar": "Contents",
   "toc_cell": false,
   "toc_position": {},
   "toc_section_display": true,
   "toc_window_display": false
  }
 },
 "nbformat": 4,
 "nbformat_minor": 2
}
